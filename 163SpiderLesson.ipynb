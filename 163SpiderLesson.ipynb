{
 "cells": [
  {
   "cell_type": "code",
   "execution_count": 2,
   "metadata": {},
   "outputs": [],
   "source": [
    "import requests"
   ]
  },
  {
   "cell_type": "code",
   "execution_count": 19,
   "metadata": {},
   "outputs": [],
   "source": [
    "newsurl=\"https://news.sina.com.cn/china/\"\n",
    "res=requests.get(newsurl)"
   ]
  },
  {
   "cell_type": "code",
   "execution_count": 20,
   "metadata": {},
   "outputs": [
    {
     "name": "stdout",
     "output_type": "stream",
     "text": [
      "<Response [200]>\n",
      "<class 'requests.models.Response'>\n"
     ]
    }
   ],
   "source": [
    "res.encoding='UTF-8'\n",
    "print(res)\n",
    "#print(res.text)\n",
    "print(type(res))"
   ]
  },
  {
   "cell_type": "code",
   "execution_count": 5,
   "metadata": {},
   "outputs": [],
   "source": [
    "from bs4 import BeautifulSoup"
   ]
  },
  {
   "cell_type": "code",
   "execution_count": 6,
   "metadata": {},
   "outputs": [],
   "source": [
    "html_sample=' <html> <body> <h1 id=\"title\">HELLO</h1><a class=\"link\" href=\"#\">this is link</a> </body> </html>'"
   ]
  },
  {
   "cell_type": "code",
   "execution_count": 7,
   "metadata": {},
   "outputs": [],
   "source": [
    "soup=BeautifulSoup(html_sample,\"html.parser\")"
   ]
  },
  {
   "cell_type": "code",
   "execution_count": 8,
   "metadata": {},
   "outputs": [
    {
     "name": "stdout",
     "output_type": "stream",
     "text": [
      "<class 'bs4.BeautifulSoup'>\n"
     ]
    }
   ],
   "source": [
    "print(type(soup))"
   ]
  },
  {
   "cell_type": "code",
   "execution_count": 9,
   "metadata": {},
   "outputs": [
    {
     "name": "stdout",
     "output_type": "stream",
     "text": [
      "   HELLOthis is link  \n"
     ]
    }
   ],
   "source": [
    "print(soup.text)"
   ]
  },
  {
   "cell_type": "code",
   "execution_count": 10,
   "metadata": {},
   "outputs": [],
   "source": [
    "header=soup.select(\"h1\")"
   ]
  },
  {
   "cell_type": "code",
   "execution_count": 11,
   "metadata": {},
   "outputs": [
    {
     "name": "stdout",
     "output_type": "stream",
     "text": [
      "[<h1 id=\"title\">HELLO</h1>]\n"
     ]
    }
   ],
   "source": [
    "print(header)"
   ]
  },
  {
   "cell_type": "markdown",
   "metadata": {},
   "source": [
    "print(header[0])"
   ]
  },
  {
   "cell_type": "markdown",
   "metadata": {},
   "source": [
    "print(header[0].text)"
   ]
  },
  {
   "cell_type": "code",
   "execution_count": 12,
   "metadata": {},
   "outputs": [],
   "source": [
    "#select id user #\n",
    "atitile=soup.select(\"#title\")"
   ]
  },
  {
   "cell_type": "code",
   "execution_count": 13,
   "metadata": {},
   "outputs": [
    {
     "name": "stdout",
     "output_type": "stream",
     "text": [
      "[<h1 id=\"title\">HELLO</h1>]\n"
     ]
    }
   ],
   "source": [
    "print(atitile)"
   ]
  },
  {
   "cell_type": "code",
   "execution_count": 14,
   "metadata": {},
   "outputs": [
    {
     "name": "stdout",
     "output_type": "stream",
     "text": [
      "<a class=\"link\" href=\"#\">this is link</a>\n"
     ]
    }
   ],
   "source": [
    "alinks=soup.select('a')\n",
    "for link in alinks:\n",
    "    print(link)\n",
    "    #print(link['href'])"
   ]
  },
  {
   "cell_type": "code",
   "execution_count": 15,
   "metadata": {},
   "outputs": [
    {
     "name": "stdout",
     "output_type": "stream",
     "text": [
      "<a abc=\"1\" bcd=\"2\" href=\"#\"> simple link</a>\n",
      "1\n"
     ]
    }
   ],
   "source": [
    "a='<a href=\"#\" abc=1 bcd=2> simple link</a>'\n",
    "soup2=BeautifulSoup(a)\n",
    "print(soup2.select('a')[0])\n",
    "print(soup2.select('a')[0]['abc'])"
   ]
  },
  {
   "cell_type": "code",
   "execution_count": 29,
   "metadata": {},
   "outputs": [
    {
     "name": "stdout",
     "output_type": "stream",
     "text": [
      "豆瓣上给《流浪地球》打一星的评论都说什么？\n",
      "https://news.sina.com.cn/c/2019-02-08/doc-ihqfskcp3786342.shtml\n",
      "加媒戳破特鲁多谎言:你认为中国人现在还会信你吗\n",
      "https://news.sina.com.cn/c/2019-02-08/doc-ihrfqzka4378497.shtml\n",
      "博士返乡记:“挑皮”和它给主人赚回的12万元奖金\n",
      "https://news.sina.com.cn/c/2019-02-08/doc-ihqfskcp3782613.shtml\n",
      "国产科幻片《流浪地球》为啥受欢迎?这几点很关键\n",
      "https://news.sina.com.cn/c/2019-02-08/doc-ihrfqzka4367643.shtml\n",
      "泰国不顾美国要求 推出华为5G东南亚首个测试台\n",
      "https://news.sina.com.cn/c/2019-02-08/doc-ihqfskcp3770263.shtml\n",
      "呼和浩特市主干道春节禁止贴对联？市民怎么说\n",
      "https://news.sina.com.cn/o/2019-02-08/doc-ihqfskcp3771709.shtml\n",
      "这群人守护春晚37年 距离舞台很近却只能用耳朵听\n",
      "https://news.sina.com.cn/c/2019-02-08/doc-ihrfqzka4357479.shtml\n",
      "中国游客在日本便利店最爱买什么?排名第一是这个\n",
      "https://news.sina.com.cn/c/2019-02-08/doc-ihrfqzka4333451.shtml\n",
      "中国驻美使馆举行活动 美商务部长舞狮试身手(图)\n",
      "https://news.sina.com.cn/c/2019-02-08/doc-ihrfqzka4316311.shtml\n",
      "邢台政法系统8人值班饮酒 带班政法委书记被查\n",
      "https://news.sina.com.cn/c/2019-02-08/doc-ihrfqzka4305795.shtml\n",
      "广告：《年味》第四季：家是开始的地方\n",
      "http://news.sina.com.cn/zt_d/nwdsij/\n"
     ]
    }
   ],
   "source": [
    "soup=BeautifulSoup(res.text)\n",
    "for news in soup.select('.news-2'):\n",
    "    for news1 in news.select('li'):\n",
    "        print(news1.text)\n",
    "        print(news1.select('a')[0]['href'])\n",
    "#    if(len(news.select('li'))>0):\n",
    "#        h2=news.select('li')[0].text\n",
    "#        #time=news.select('.time')[0].text\n",
    "#        a=news.select('a')[0]['href']\n",
    "#        print(h2,a)"
   ]
  },
  {
   "cell_type": "code",
   "execution_count": null,
   "metadata": {},
   "outputs": [],
   "source": []
  }
 ],
 "metadata": {
  "kernelspec": {
   "display_name": "Python 3",
   "language": "python",
   "name": "python3"
  },
  "language_info": {
   "codemirror_mode": {
    "name": "ipython",
    "version": 3
   },
   "file_extension": ".py",
   "mimetype": "text/x-python",
   "name": "python",
   "nbconvert_exporter": "python",
   "pygments_lexer": "ipython3",
   "version": "3.7.0"
  }
 },
 "nbformat": 4,
 "nbformat_minor": 2
}
