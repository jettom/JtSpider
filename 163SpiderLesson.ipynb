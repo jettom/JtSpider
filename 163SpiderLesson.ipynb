{
 "cells": [
  {
   "cell_type": "code",
   "execution_count": 1,
   "metadata": {},
   "outputs": [],
   "source": [
    "import requests"
   ]
  },
  {
   "cell_type": "code",
   "execution_count": 2,
   "metadata": {},
   "outputs": [],
   "source": [
    "newsurl=\"https://news.sina.com.cn/china/\"\n",
    "res=requests.get(newsurl)"
   ]
  },
  {
   "cell_type": "code",
   "execution_count": 3,
   "metadata": {},
   "outputs": [
    {
     "name": "stdout",
     "output_type": "stream",
     "text": [
      "<Response [200]>\n",
      "<class 'requests.models.Response'>\n"
     ]
    }
   ],
   "source": [
    "res.encoding='UTF-8'\n",
    "print(res)\n",
    "#print(res.text)\n",
    "print(type(res))"
   ]
  },
  {
   "cell_type": "code",
   "execution_count": 4,
   "metadata": {},
   "outputs": [],
   "source": [
    "from bs4 import BeautifulSoup"
   ]
  },
  {
   "cell_type": "code",
   "execution_count": 5,
   "metadata": {},
   "outputs": [],
   "source": [
    "html_sample=' <html> <body> <h1 id=\"title\">HELLO</h1><a class=\"link\" href=\"#\">this is link</a> </body> </html>'"
   ]
  },
  {
   "cell_type": "code",
   "execution_count": 6,
   "metadata": {},
   "outputs": [],
   "source": [
    "soup=BeautifulSoup(html_sample,\"html.parser\")"
   ]
  },
  {
   "cell_type": "code",
   "execution_count": 7,
   "metadata": {},
   "outputs": [
    {
     "name": "stdout",
     "output_type": "stream",
     "text": [
      "<class 'bs4.BeautifulSoup'>\n"
     ]
    }
   ],
   "source": [
    "print(type(soup))"
   ]
  },
  {
   "cell_type": "code",
   "execution_count": 8,
   "metadata": {},
   "outputs": [
    {
     "name": "stdout",
     "output_type": "stream",
     "text": [
      "   HELLOthis is link  \n"
     ]
    }
   ],
   "source": [
    "#return without html element \n",
    "print(soup.text)"
   ]
  },
  {
   "cell_type": "code",
   "execution_count": 9,
   "metadata": {},
   "outputs": [],
   "source": [
    "#select by html element h1\n",
    "header=soup.select(\"h1\")"
   ]
  },
  {
   "cell_type": "code",
   "execution_count": 10,
   "metadata": {},
   "outputs": [
    {
     "name": "stdout",
     "output_type": "stream",
     "text": [
      "[<h1 id=\"title\">HELLO</h1>]\n"
     ]
    }
   ],
   "source": [
    "print(header)\n",
    "#return header array\n",
    "#print(header[0]) is array 0"
   ]
  },
  {
   "cell_type": "markdown",
   "metadata": {},
   "source": [
    "print(header[0])"
   ]
  },
  {
   "cell_type": "markdown",
   "metadata": {},
   "source": [
    "print(header[0].text)"
   ]
  },
  {
   "cell_type": "code",
   "execution_count": 11,
   "metadata": {},
   "outputs": [
    {
     "name": "stdout",
     "output_type": "stream",
     "text": [
      "<h1 id=\"title\">HELLO</h1>\n",
      "HELLO\n"
     ]
    }
   ],
   "source": [
    "print(header[0])\n",
    "print(header[0].text)"
   ]
  },
  {
   "cell_type": "code",
   "execution_count": 12,
   "metadata": {},
   "outputs": [
    {
     "name": "stdout",
     "output_type": "stream",
     "text": [
      "[<h1 id=\"title\">HELLO</h1>]\n"
     ]
    }
   ],
   "source": [
    "#select id user #\n",
    "atitile=soup.select(\"#title\")\n",
    "print(atitile)"
   ]
  },
  {
   "cell_type": "code",
   "execution_count": 15,
   "metadata": {},
   "outputs": [
    {
     "name": "stdout",
     "output_type": "stream",
     "text": [
      "[<a class=\"link\" href=\"#\">this is link</a>]\n",
      "#\n"
     ]
    }
   ],
   "source": [
    "#select class link #\n",
    "atitile=soup.select(\".link\")\n",
    "#link array\n",
    "print(atitile)\n",
    "# print link href\n",
    "print(atitile[0]['href'])"
   ]
  },
  {
   "cell_type": "code",
   "execution_count": 16,
   "metadata": {},
   "outputs": [
    {
     "name": "stdout",
     "output_type": "stream",
     "text": [
      "<a class=\"link\" href=\"#\">this is link</a>\n"
     ]
    }
   ],
   "source": [
    "#select all a element (link)\n",
    "alinks=soup.select('a')\n",
    "for link in alinks:\n",
    "    print(link)\n",
    "    #print(link['href'])"
   ]
  },
  {
   "cell_type": "code",
   "execution_count": 18,
   "metadata": {},
   "outputs": [
    {
     "name": "stdout",
     "output_type": "stream",
     "text": [
      "<a abc=\"1\" bcd=\"2\" href=\"#\"> simple link</a>\n",
      "1\n"
     ]
    }
   ],
   "source": [
    "#sample for get attribute\n",
    "a='<a href=\"#\" abc=1 bcd=2> simple link</a>'\n",
    "soup2=BeautifulSoup(a)\n",
    "print(soup2.select('a')[0])\n",
    "print(soup2.select('a')[0]['abc'])"
   ]
  },
  {
   "cell_type": "code",
   "execution_count": 19,
   "metadata": {},
   "outputs": [
    {
     "name": "stdout",
     "output_type": "stream",
     "text": [
      "美国承诺遭质疑之际 海湾国家将目光投向中国\n",
      "https://news.sina.com.cn/c/2019-04-13/doc-ihvhiewr5526398.shtml\n",
      "军事专家李杰:国产航母年内服役可能性非常大(图)\n",
      "https://news.sina.com.cn/c/2019-04-13/doc-ihvhiqax2334232.shtml\n",
      "深圳暴雨致11人死亡 失联者遗体已全部找到\n",
      "https://news.sina.com.cn/c/2019-04-13/doc-ihvhiewr5519411.shtml\n",
      "因为黄兴国武长顺 他们开会16000余次\n",
      "https://news.sina.com.cn/c/2019-04-13/doc-ihvhiqax2321622.shtml\n",
      "吴官正《闲来笔潭》推出简本 责编：这本书很独特\n",
      "https://news.sina.com.cn/c/2019-04-13/doc-ihvhiewr5510266.shtml\n",
      "韩国瑜称\"国防\"靠美市场靠大陆 央媒:不\n",
      "https://news.sina.com.cn/c/2019-04-13/doc-ihvhiqax2320415.shtml\n",
      "台“统促会”发声明：取消“和平统一”游行\n",
      "https://news.sina.com.cn/c/2019-04-13/doc-ihvhiewr5500084.shtml\n",
      "侠客岛：南海问题争议了这么多年 “心病”怎么除\n",
      "https://news.sina.com.cn/c/2019-04-13/doc-ihvhiqax2304473.shtml\n",
      "获刑17年的福彩中心原副主任 癌症晚期被监外执行\n",
      "https://news.sina.com.cn/c/2019-04-13/doc-ihvhiewr5489512.shtml\n",
      "台美海军要在帕劳“巧遇”？网友提醒绿媒:别挑事\n",
      "https://news.sina.com.cn/c/2019-04-13/doc-ihvhiewr5484169.shtml\n",
      "世茂许世坛：和泰禾是战略合作 不限于一两个项目\n",
      "https://finance.sina.com.cn/roll/2019-03-26/doc-ihsxncvh5725520.shtml\n"
     ]
    }
   ],
   "source": [
    "# print sina news title and it's href \n",
    "soup=BeautifulSoup(res.text)\n",
    "for news in soup.select('.news-2'):\n",
    "    for news1 in news.select('li'):\n",
    "        print(news1.text)\n",
    "        print(news1.select('a')[0]['href'])\n",
    "#    if(len(news.select('li'))>0):\n",
    "#        h2=news.select('li')[0].text\n",
    "#        #time=news.select('.time')[0].text\n",
    "#        a=news.select('a')[0]['href']\n",
    "#        print(h2,a)"
   ]
  },
  {
   "cell_type": "code",
   "execution_count": 20,
   "metadata": {},
   "outputs": [],
   "source": [
    "'''\n",
    "another sample for youku \n",
    "'''\n",
    "# new sample for youku wangyubing \n",
    "import requests\n",
    "from bs4 import BeautifulSoup"
   ]
  },
  {
   "cell_type": "code",
   "execution_count": 21,
   "metadata": {},
   "outputs": [],
   "source": [
    "newsurl=\"http://i.youku.com/i/UNDA0NDIzMDgw/videos?spm=a2hzp.8244740.0.0\"\n",
    "res=requests.get(newsurl)"
   ]
  },
  {
   "cell_type": "code",
   "execution_count": 22,
   "metadata": {
    "scrolled": true
   },
   "outputs": [
    {
     "name": "stdout",
     "output_type": "stream",
     "text": [
      "<Response [200]>\n",
      "<class 'requests.models.Response'>\n"
     ]
    }
   ],
   "source": [
    "res.encoding='UTF-8'\n",
    "print(res)\n",
    "#print(res.text)\n",
    "print(type(res))"
   ]
  },
  {
   "cell_type": "code",
   "execution_count": 23,
   "metadata": {},
   "outputs": [],
   "source": [
    "soup=BeautifulSoup(res.text)\n",
    "#print(soup)"
   ]
  },
  {
   "cell_type": "code",
   "execution_count": 24,
   "metadata": {},
   "outputs": [],
   "source": [
    "#select by class videos-list\n",
    "news = soup.select('.items')\n"
   ]
  },
  {
   "cell_type": "code",
   "execution_count": 25,
   "metadata": {},
   "outputs": [
    {
     "name": "stdout",
     "output_type": "stream",
     "text": [
      "资源性品种的投资机会\n",
      "//v.youku.com/v_show/id_XNDAzNTI1NzE1Ng==.html\n"
     ]
    }
   ],
   "source": [
    "print(news[0].select('.va')[0].select('.v-meta-title')[0].select('a')[0].text)\n",
    "print(news[0].select('.va')[0].select('.v-meta-title')[0].select('a')[0]['href'])"
   ]
  },
  {
   "cell_type": "code",
   "execution_count": 26,
   "metadata": {},
   "outputs": [
    {
     "name": "stdout",
     "output_type": "stream",
     "text": [
      "//v.youku.com/v_show/id_XNDAzNTI1NzE1Ng==.html\n",
      "//v.youku.com/v_show/id_XMzk5MDgxMDA0MA==.html\n",
      "//v.youku.com/v_show/id_XMzk1NTczMzUxNg==.html\n",
      "//v.youku.com/v_show/id_XMzk0NTQ1NzMyMA==.html\n",
      "//v.youku.com/v_show/id_XMzkxNDYxMzQ3Ng==.html\n",
      "//v.youku.com/v_show/id_XMzkwMzYzNDI2MA==.html\n",
      "//v.youku.com/v_show/id_XMzg4MDQyODYwMA==.html\n",
      "//v.youku.com/v_show/id_XMzg1MjY5MjQwMA==.html\n",
      "//v.youku.com/v_show/id_XMzg0NDk2OTY2MA==.html\n",
      "//v.youku.com/v_show/id_XMzgzNTMxOTgwNA==.html\n",
      "//v.youku.com/v_show/id_XMzgyNjQxODEzMg==.html\n",
      "//v.youku.com/v_show/id_XMzgyMDEwOTY4MA==.html\n",
      "//v.youku.com/v_show/id_XMzgyMDEwNDAwMA==.html\n",
      "//v.youku.com/v_show/id_XMzgyMDA4ODk3Mg==.html\n",
      "//v.youku.com/v_show/id_XMzgxNTc2OTI4OA==.html\n",
      "//v.youku.com/v_show/id_XMzgxNTkwNzQ2MA==.html\n",
      "//v.youku.com/v_show/id_XMzgxNTc2NzY0OA==.html\n",
      "//v.youku.com/v_show/id_XMzgxNTc2NjQ2NA==.html\n",
      "//v.youku.com/v_show/id_XMzgxNTc2NDkwMA==.html\n",
      "//v.youku.com/v_show/id_XMzgxMzY0MDQzMg==.html\n",
      "//v.youku.com/v_show/id_XMzgwNjAyMTc1Mg==.html\n",
      "//v.youku.com/v_show/id_XMzc5NzM5NDUxMg==.html\n",
      "//v.youku.com/v_show/id_XMzc4Njg5MDk1Ng==.html\n",
      "//v.youku.com/v_show/id_XMzYxNDAwNjk0NA==.html\n",
      "//v.youku.com/v_show/id_XMzYxMjg5NTYwNA==.html\n",
      "//v.youku.com/v_show/id_XMzYxMjE2Njg4NA==.html\n",
      "//v.youku.com/v_show/id_XMzUzMzg5NDg5Ng==.html\n",
      "//v.youku.com/v_show/id_XMzUxNzEwMzAxMg==.html\n",
      "//v.youku.com/v_show/id_XMzUwMzE0MTUxMg==.html\n",
      "//v.youku.com/v_show/id_XMzUwMzE0MTQ5Ng==.html\n",
      "//v.youku.com/v_show/id_XMzQ2NDI3MDM0NA==.html\n",
      "//v.youku.com/v_show/id_XMzQ0Njc0NjY2OA==.html\n",
      "//v.youku.com/v_show/id_XMzQwMzgyOTI1Ng==.html\n",
      "//v.youku.com/v_show/id_XMzM4NzU2OTc0MA==.html\n",
      "//v.youku.com/v_show/id_XMzM4NjYxMDU5Ng==.html\n",
      "//v.youku.com/v_show/id_XMzM2NzUwNDU3Ng==.html\n",
      "//v.youku.com/v_show/id_XMzM2MTQ1MzAzMg==.html\n",
      "//v.youku.com/v_show/id_XMzMzMjQwNDE2OA==.html\n",
      "//v.youku.com/v_show/id_XMzMyNzkyNzA3Mg==.html\n",
      "//v.youku.com/v_show/id_XMzMwNzg2NjcxMg==.html\n",
      "//v.youku.com/v_show/id_XMzMwNzY3MTU0MA==.html\n",
      "//v.youku.com/v_show/id_XMzI3ODA2NjQ1Mg==.html\n",
      "//v.youku.com/v_show/id_XMzIyNjMwNjk0NA==.html\n",
      "//v.youku.com/v_show/id_XMzE5NjMyNjIwOA==.html\n",
      "//v.youku.com/v_show/id_XMzE5NjIyMTUxMg==.html\n",
      "//v.youku.com/v_show/id_XMzEyMjI4MjY2NA==.html\n",
      "//v.youku.com/v_show/id_XMzA1ODE3NjE3Ng==.html\n",
      "//v.youku.com/v_show/id_XMzA0MDEwMjQ4NA==.html\n",
      "//v.youku.com/v_show/id_XMzAzMzcxMDExNg==.html\n",
      "//v.youku.com/v_show/id_XMzAwMDU3OTcxMg==.html\n"
     ]
    }
   ],
   "source": [
    "for news in soup.select('.items'):\n",
    "    for news1 in news.select('.va'):\n",
    "        #print(news1.select('.v-meta-title')[0].select('a')[0].text)\n",
    "        print(news1.select('.v-meta-title')[0].select('a')[0]['href'])\n",
    "        #print(news1.select('a')[0]['href'])"
   ]
  },
  {
   "cell_type": "code",
   "execution_count": 28,
   "metadata": {},
   "outputs": [
    {
     "name": "stdout",
     "output_type": "stream",
     "text": [
      "fxvctcc8121090\n"
     ]
    }
   ],
   "source": [
    "#sample of regular use\n",
    "import re\n",
    "\n",
    "newsurl='http://news.sina.com.cn/c/nd/2016-08-20/doc-ifxvctcc8121090.shtml'\n",
    "m=re.search('doc-i(.*).shtml', newsurl)\n",
    "print(m.group(1))\n"
   ]
  },
  {
   "cell_type": "code",
   "execution_count": null,
   "metadata": {},
   "outputs": [],
   "source": []
  }
 ],
 "metadata": {
  "kernelspec": {
   "display_name": "Python 3",
   "language": "python",
   "name": "python3"
  },
  "language_info": {
   "codemirror_mode": {
    "name": "ipython",
    "version": 3
   },
   "file_extension": ".py",
   "mimetype": "text/x-python",
   "name": "python",
   "nbconvert_exporter": "python",
   "pygments_lexer": "ipython3",
   "version": "3.7.1"
  }
 },
 "nbformat": 4,
 "nbformat_minor": 2
}
