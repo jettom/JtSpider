{
 "cells": [
  {
   "cell_type": "code",
   "execution_count": 2,
   "metadata": {},
   "outputs": [],
   "source": [
    "import requests"
   ]
  },
  {
   "cell_type": "code",
   "execution_count": 19,
   "metadata": {},
   "outputs": [],
   "source": [
    "newsurl=\"https://news.sina.com.cn/china/\"\n",
    "res=requests.get(newsurl)"
   ]
  },
  {
   "cell_type": "code",
   "execution_count": 20,
   "metadata": {},
   "outputs": [
    {
     "name": "stdout",
     "output_type": "stream",
     "text": [
      "<Response [200]>\n",
      "<class 'requests.models.Response'>\n"
     ]
    }
   ],
   "source": [
    "res.encoding='UTF-8'\n",
    "print(res)\n",
    "#print(res.text)\n",
    "print(type(res))"
   ]
  },
  {
   "cell_type": "code",
   "execution_count": 5,
   "metadata": {},
   "outputs": [],
   "source": [
    "from bs4 import BeautifulSoup"
   ]
  },
  {
   "cell_type": "code",
   "execution_count": 6,
   "metadata": {},
   "outputs": [],
   "source": [
    "html_sample=' <html> <body> <h1 id=\"title\">HELLO</h1><a class=\"link\" href=\"#\">this is link</a> </body> </html>'"
   ]
  },
  {
   "cell_type": "code",
   "execution_count": 7,
   "metadata": {},
   "outputs": [],
   "source": [
    "soup=BeautifulSoup(html_sample,\"html.parser\")"
   ]
  },
  {
   "cell_type": "code",
   "execution_count": 8,
   "metadata": {},
   "outputs": [
    {
     "name": "stdout",
     "output_type": "stream",
     "text": [
      "<class 'bs4.BeautifulSoup'>\n"
     ]
    }
   ],
   "source": [
    "print(type(soup))"
   ]
  },
  {
   "cell_type": "code",
   "execution_count": 9,
   "metadata": {},
   "outputs": [
    {
     "name": "stdout",
     "output_type": "stream",
     "text": [
      "   HELLOthis is link  \n"
     ]
    }
   ],
   "source": [
    "print(soup.text)"
   ]
  },
  {
   "cell_type": "code",
   "execution_count": 10,
   "metadata": {},
   "outputs": [],
   "source": [
    "header=soup.select(\"h1\")"
   ]
  },
  {
   "cell_type": "code",
   "execution_count": 11,
   "metadata": {},
   "outputs": [
    {
     "name": "stdout",
     "output_type": "stream",
     "text": [
      "[<h1 id=\"title\">HELLO</h1>]\n"
     ]
    }
   ],
   "source": [
    "print(header)"
   ]
  },
  {
   "cell_type": "markdown",
   "metadata": {},
   "source": [
    "print(header[0])"
   ]
  },
  {
   "cell_type": "markdown",
   "metadata": {},
   "source": [
    "print(header[0].text)"
   ]
  },
  {
   "cell_type": "code",
   "execution_count": 12,
   "metadata": {},
   "outputs": [],
   "source": [
    "#select id user #\n",
    "atitile=soup.select(\"#title\")"
   ]
  },
  {
   "cell_type": "code",
   "execution_count": 13,
   "metadata": {},
   "outputs": [
    {
     "name": "stdout",
     "output_type": "stream",
     "text": [
      "[<h1 id=\"title\">HELLO</h1>]\n"
     ]
    }
   ],
   "source": [
    "print(atitile)"
   ]
  },
  {
   "cell_type": "code",
   "execution_count": 14,
   "metadata": {},
   "outputs": [
    {
     "name": "stdout",
     "output_type": "stream",
     "text": [
      "<a class=\"link\" href=\"#\">this is link</a>\n"
     ]
    }
   ],
   "source": [
    "alinks=soup.select('a')\n",
    "for link in alinks:\n",
    "    print(link)\n",
    "    #print(link['href'])"
   ]
  },
  {
   "cell_type": "code",
   "execution_count": 15,
   "metadata": {},
   "outputs": [
    {
     "name": "stdout",
     "output_type": "stream",
     "text": [
      "<a abc=\"1\" bcd=\"2\" href=\"#\"> simple link</a>\n",
      "1\n"
     ]
    }
   ],
   "source": [
    "a='<a href=\"#\" abc=1 bcd=2> simple link</a>'\n",
    "soup2=BeautifulSoup(a)\n",
    "print(soup2.select('a')[0])\n",
    "print(soup2.select('a')[0]['abc'])"
   ]
  },
  {
   "cell_type": "code",
   "execution_count": 29,
   "metadata": {},
   "outputs": [
    {
     "name": "stdout",
     "output_type": "stream",
     "text": [
      "豆瓣上给《流浪地球》打一星的评论都说什么？\n",
      "https://news.sina.com.cn/c/2019-02-08/doc-ihqfskcp3786342.shtml\n",
      "加媒戳破特鲁多谎言:你认为中国人现在还会信你吗\n",
      "https://news.sina.com.cn/c/2019-02-08/doc-ihrfqzka4378497.shtml\n",
      "博士返乡记:“挑皮”和它给主人赚回的12万元奖金\n",
      "https://news.sina.com.cn/c/2019-02-08/doc-ihqfskcp3782613.shtml\n",
      "国产科幻片《流浪地球》为啥受欢迎?这几点很关键\n",
      "https://news.sina.com.cn/c/2019-02-08/doc-ihrfqzka4367643.shtml\n",
      "泰国不顾美国要求 推出华为5G东南亚首个测试台\n",
      "https://news.sina.com.cn/c/2019-02-08/doc-ihqfskcp3770263.shtml\n",
      "呼和浩特市主干道春节禁止贴对联？市民怎么说\n",
      "https://news.sina.com.cn/o/2019-02-08/doc-ihqfskcp3771709.shtml\n",
      "这群人守护春晚37年 距离舞台很近却只能用耳朵听\n",
      "https://news.sina.com.cn/c/2019-02-08/doc-ihrfqzka4357479.shtml\n",
      "中国游客在日本便利店最爱买什么?排名第一是这个\n",
      "https://news.sina.com.cn/c/2019-02-08/doc-ihrfqzka4333451.shtml\n",
      "中国驻美使馆举行活动 美商务部长舞狮试身手(图)\n",
      "https://news.sina.com.cn/c/2019-02-08/doc-ihrfqzka4316311.shtml\n",
      "邢台政法系统8人值班饮酒 带班政法委书记被查\n",
      "https://news.sina.com.cn/c/2019-02-08/doc-ihrfqzka4305795.shtml\n",
      "广告：《年味》第四季：家是开始的地方\n",
      "http://news.sina.com.cn/zt_d/nwdsij/\n"
     ]
    }
   ],
   "source": [
    "soup=BeautifulSoup(res.text)\n",
    "for news in soup.select('.news-2'):\n",
    "    for news1 in news.select('li'):\n",
    "        print(news1.text)\n",
    "        print(news1.select('a')[0]['href'])\n",
    "#    if(len(news.select('li'))>0):\n",
    "#        h2=news.select('li')[0].text\n",
    "#        #time=news.select('.time')[0].text\n",
    "#        a=news.select('a')[0]['href']\n",
    "#        print(h2,a)"
   ]
  },
  {
   "cell_type": "code",
   "execution_count": 1,
   "metadata": {},
   "outputs": [],
   "source": [
    "import requests\n",
    "from bs4 import BeautifulSoup"
   ]
  },
  {
   "cell_type": "code",
   "execution_count": 50,
   "metadata": {},
   "outputs": [],
   "source": [
    "newsurl=\"http://i.youku.com/i/UNDA0NDIzMDgw/videos?spm=a2hzp.8244740.0.0\"\n",
    "res=requests.get(newsurl)"
   ]
  },
  {
   "cell_type": "code",
   "execution_count": 51,
   "metadata": {
    "scrolled": true
   },
   "outputs": [
    {
     "name": "stdout",
     "output_type": "stream",
     "text": [
      "<Response [200]>\n",
      "<class 'requests.models.Response'>\n"
     ]
    }
   ],
   "source": [
    "res.encoding='UTF-8'\n",
    "print(res)\n",
    "#print(res.text)\n",
    "print(type(res))"
   ]
  },
  {
   "cell_type": "code",
   "execution_count": 52,
   "metadata": {},
   "outputs": [],
   "source": [
    "soup=BeautifulSoup(res.text)\n",
    "#print(soup)"
   ]
  },
  {
   "cell_type": "code",
   "execution_count": 24,
   "metadata": {},
   "outputs": [],
   "source": [
    "#select by class videos-list\n",
    "news = soup.select('.items')\n"
   ]
  },
  {
   "cell_type": "code",
   "execution_count": 33,
   "metadata": {},
   "outputs": [
    {
     "name": "stdout",
     "output_type": "stream",
     "text": [
      "资源性品种的投资机会\n",
      "//v.youku.com/v_show/id_XNDAzNTI1NzE1Ng==.html\n"
     ]
    }
   ],
   "source": [
    "print(news[0].select('.va')[0].select('.v-meta-title')[0].select('a')[0].text)\n",
    "print(news[0].select('.va')[0].select('.v-meta-title')[0].select('a')[0]['href'])"
   ]
  },
  {
   "cell_type": "code",
   "execution_count": 53,
   "metadata": {},
   "outputs": [
    {
     "name": "stdout",
     "output_type": "stream",
     "text": [
      "//v.youku.com/v_show/id_XNDAzNTI1NzE1Ng==.html\n",
      "//v.youku.com/v_show/id_XMzk5MDgxMDA0MA==.html\n",
      "//v.youku.com/v_show/id_XMzk1NTczMzUxNg==.html\n",
      "//v.youku.com/v_show/id_XMzk0NTQ1NzMyMA==.html\n",
      "//v.youku.com/v_show/id_XMzkxNDYxMzQ3Ng==.html\n",
      "//v.youku.com/v_show/id_XMzkwMzYzNDI2MA==.html\n",
      "//v.youku.com/v_show/id_XMzg4MDQyODYwMA==.html\n",
      "//v.youku.com/v_show/id_XMzg1MjY5MjQwMA==.html\n",
      "//v.youku.com/v_show/id_XMzg0NDk2OTY2MA==.html\n",
      "//v.youku.com/v_show/id_XMzgzNTMxOTgwNA==.html\n",
      "//v.youku.com/v_show/id_XMzgyNjQxODEzMg==.html\n",
      "//v.youku.com/v_show/id_XMzgyMDEwOTY4MA==.html\n",
      "//v.youku.com/v_show/id_XMzgyMDEwNDAwMA==.html\n",
      "//v.youku.com/v_show/id_XMzgyMDA4ODk3Mg==.html\n",
      "//v.youku.com/v_show/id_XMzgxNTc2OTI4OA==.html\n",
      "//v.youku.com/v_show/id_XMzgxNTkwNzQ2MA==.html\n",
      "//v.youku.com/v_show/id_XMzgxNTc2NzY0OA==.html\n",
      "//v.youku.com/v_show/id_XMzgxNTc2NjQ2NA==.html\n",
      "//v.youku.com/v_show/id_XMzgxNTc2NDkwMA==.html\n",
      "//v.youku.com/v_show/id_XMzgxMzY0MDQzMg==.html\n",
      "//v.youku.com/v_show/id_XMzgwNjAyMTc1Mg==.html\n",
      "//v.youku.com/v_show/id_XMzc5NzM5NDUxMg==.html\n",
      "//v.youku.com/v_show/id_XMzc4Njg5MDk1Ng==.html\n",
      "//v.youku.com/v_show/id_XMzYxNDAwNjk0NA==.html\n",
      "//v.youku.com/v_show/id_XMzYxMjg5NTYwNA==.html\n",
      "//v.youku.com/v_show/id_XMzYxMjE2Njg4NA==.html\n",
      "//v.youku.com/v_show/id_XMzUzMzg5NDg5Ng==.html\n",
      "//v.youku.com/v_show/id_XMzUxNzEwMzAxMg==.html\n",
      "//v.youku.com/v_show/id_XMzUwMzE0MTUxMg==.html\n",
      "//v.youku.com/v_show/id_XMzUwMzE0MTQ5Ng==.html\n",
      "//v.youku.com/v_show/id_XMzQ2NDI3MDM0NA==.html\n",
      "//v.youku.com/v_show/id_XMzQ0Njc0NjY2OA==.html\n",
      "//v.youku.com/v_show/id_XMzQwMzgyOTI1Ng==.html\n",
      "//v.youku.com/v_show/id_XMzM4NzU2OTc0MA==.html\n",
      "//v.youku.com/v_show/id_XMzM4NjYxMDU5Ng==.html\n",
      "//v.youku.com/v_show/id_XMzM2NzUwNDU3Ng==.html\n",
      "//v.youku.com/v_show/id_XMzM2MTQ1MzAzMg==.html\n",
      "//v.youku.com/v_show/id_XMzMzMjQwNDE2OA==.html\n",
      "//v.youku.com/v_show/id_XMzMyNzkyNzA3Mg==.html\n",
      "//v.youku.com/v_show/id_XMzMwNzg2NjcxMg==.html\n",
      "//v.youku.com/v_show/id_XMzMwNzY3MTU0MA==.html\n",
      "//v.youku.com/v_show/id_XMzI3ODA2NjQ1Mg==.html\n",
      "//v.youku.com/v_show/id_XMzIyNjMwNjk0NA==.html\n",
      "//v.youku.com/v_show/id_XMzE5NjMyNjIwOA==.html\n",
      "//v.youku.com/v_show/id_XMzE5NjIyMTUxMg==.html\n",
      "//v.youku.com/v_show/id_XMzEyMjI4MjY2NA==.html\n",
      "//v.youku.com/v_show/id_XMzA1ODE3NjE3Ng==.html\n",
      "//v.youku.com/v_show/id_XMzA0MDEwMjQ4NA==.html\n",
      "//v.youku.com/v_show/id_XMzAzMzcxMDExNg==.html\n",
      "//v.youku.com/v_show/id_XMzAwMDU3OTcxMg==.html\n"
     ]
    }
   ],
   "source": [
    "for news in soup.select('.items'):\n",
    "    for news1 in news.select('.va'):\n",
    "        #print(news1.select('.v-meta-title')[0].select('a')[0].text)\n",
    "        print(news1.select('.v-meta-title')[0].select('a')[0]['href'])\n",
    "        #print(news1.select('a')[0]['href'])"
   ]
  },
  {
   "cell_type": "code",
   "execution_count": null,
   "metadata": {},
   "outputs": [],
   "source": []
  }
 ],
 "metadata": {
  "kernelspec": {
   "display_name": "Python 3",
   "language": "python",
   "name": "python3"
  },
  "language_info": {
   "codemirror_mode": {
    "name": "ipython",
    "version": 3
   },
   "file_extension": ".py",
   "mimetype": "text/x-python",
   "name": "python",
   "nbconvert_exporter": "python",
   "pygments_lexer": "ipython3",
   "version": "3.7.0"
  }
 },
 "nbformat": 4,
 "nbformat_minor": 2
}
